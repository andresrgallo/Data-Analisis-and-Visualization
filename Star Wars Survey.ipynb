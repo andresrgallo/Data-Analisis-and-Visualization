{
 "cells": [
  {
   "cell_type": "code",
   "execution_count": 2,
   "metadata": {
    "collapsed": false
   },
   "outputs": [
    {
     "name": "stdout",
     "output_type": "stream",
     "text": [
      "   RespondentID Have you seen any of the 6 films in the Star Wars franchise?  \\\n",
      "0           NaN                                           Response             \n",
      "1  3.292880e+09                                                Yes             \n",
      "2  3.292880e+09                                                 No             \n",
      "3  3.292765e+09                                                Yes             \n",
      "4  3.292763e+09                                                Yes             \n",
      "5  3.292731e+09                                                Yes             \n",
      "6  3.292719e+09                                                Yes             \n",
      "7  3.292685e+09                                                Yes             \n",
      "8  3.292664e+09                                                Yes             \n",
      "9  3.292654e+09                                                Yes             \n",
      "\n",
      "  Do you consider yourself to be a fan of the Star Wars film franchise?  \\\n",
      "0                                           Response                      \n",
      "1                                                Yes                      \n",
      "2                                                NaN                      \n",
      "3                                                 No                      \n",
      "4                                                Yes                      \n",
      "5                                                Yes                      \n",
      "6                                                Yes                      \n",
      "7                                                Yes                      \n",
      "8                                                Yes                      \n",
      "9                                                Yes                      \n",
      "\n",
      "  Which of the following Star Wars films have you seen? Please select all that apply.  \\\n",
      "0           Star Wars: Episode I  The Phantom Menace                                    \n",
      "1           Star Wars: Episode I  The Phantom Menace                                    \n",
      "2                                                NaN                                    \n",
      "3           Star Wars: Episode I  The Phantom Menace                                    \n",
      "4           Star Wars: Episode I  The Phantom Menace                                    \n",
      "5           Star Wars: Episode I  The Phantom Menace                                    \n",
      "6           Star Wars: Episode I  The Phantom Menace                                    \n",
      "7           Star Wars: Episode I  The Phantom Menace                                    \n",
      "8           Star Wars: Episode I  The Phantom Menace                                    \n",
      "9           Star Wars: Episode I  The Phantom Menace                                    \n",
      "\n",
      "                                    Unnamed: 4  \\\n",
      "0  Star Wars: Episode II  Attack of the Clones   \n",
      "1  Star Wars: Episode II  Attack of the Clones   \n",
      "2                                          NaN   \n",
      "3  Star Wars: Episode II  Attack of the Clones   \n",
      "4  Star Wars: Episode II  Attack of the Clones   \n",
      "5  Star Wars: Episode II  Attack of the Clones   \n",
      "6  Star Wars: Episode II  Attack of the Clones   \n",
      "7  Star Wars: Episode II  Attack of the Clones   \n",
      "8  Star Wars: Episode II  Attack of the Clones   \n",
      "9  Star Wars: Episode II  Attack of the Clones   \n",
      "\n",
      "                                    Unnamed: 5  \\\n",
      "0  Star Wars: Episode III  Revenge of the Sith   \n",
      "1  Star Wars: Episode III  Revenge of the Sith   \n",
      "2                                          NaN   \n",
      "3  Star Wars: Episode III  Revenge of the Sith   \n",
      "4  Star Wars: Episode III  Revenge of the Sith   \n",
      "5  Star Wars: Episode III  Revenge of the Sith   \n",
      "6  Star Wars: Episode III  Revenge of the Sith   \n",
      "7  Star Wars: Episode III  Revenge of the Sith   \n",
      "8  Star Wars: Episode III  Revenge of the Sith   \n",
      "9  Star Wars: Episode III  Revenge of the Sith   \n",
      "\n",
      "                          Unnamed: 6  \\\n",
      "0  Star Wars: Episode IV  A New Hope   \n",
      "1  Star Wars: Episode IV  A New Hope   \n",
      "2                                NaN   \n",
      "3                                NaN   \n",
      "4  Star Wars: Episode IV  A New Hope   \n",
      "5  Star Wars: Episode IV  A New Hope   \n",
      "6  Star Wars: Episode IV  A New Hope   \n",
      "7  Star Wars: Episode IV  A New Hope   \n",
      "8  Star Wars: Episode IV  A New Hope   \n",
      "9  Star Wars: Episode IV  A New Hope   \n",
      "\n",
      "                                     Unnamed: 7  \\\n",
      "0  Star Wars: Episode V The Empire Strikes Back   \n",
      "1  Star Wars: Episode V The Empire Strikes Back   \n",
      "2                                           NaN   \n",
      "3                                           NaN   \n",
      "4  Star Wars: Episode V The Empire Strikes Back   \n",
      "5  Star Wars: Episode V The Empire Strikes Back   \n",
      "6  Star Wars: Episode V The Empire Strikes Back   \n",
      "7  Star Wars: Episode V The Empire Strikes Back   \n",
      "8  Star Wars: Episode V The Empire Strikes Back   \n",
      "9  Star Wars: Episode V The Empire Strikes Back   \n",
      "\n",
      "                                 Unnamed: 8  \\\n",
      "0  Star Wars: Episode VI Return of the Jedi   \n",
      "1  Star Wars: Episode VI Return of the Jedi   \n",
      "2                                       NaN   \n",
      "3                                       NaN   \n",
      "4  Star Wars: Episode VI Return of the Jedi   \n",
      "5  Star Wars: Episode VI Return of the Jedi   \n",
      "6  Star Wars: Episode VI Return of the Jedi   \n",
      "7  Star Wars: Episode VI Return of the Jedi   \n",
      "8  Star Wars: Episode VI Return of the Jedi   \n",
      "9  Star Wars: Episode VI Return of the Jedi   \n",
      "\n",
      "  Please rank the Star Wars films in order of preference with 1 being your favorite film in the franchise and 6 being your least favorite film.  \\\n",
      "0           Star Wars: Episode I  The Phantom Menace                                                                                              \n",
      "1                                                  3                                                                                              \n",
      "2                                                NaN                                                                                              \n",
      "3                                                  1                                                                                              \n",
      "4                                                  5                                                                                              \n",
      "5                                                  5                                                                                              \n",
      "6                                                  1                                                                                              \n",
      "7                                                  6                                                                                              \n",
      "8                                                  4                                                                                              \n",
      "9                                                  5                                                                                              \n",
      "\n",
      "            ...                    Unnamed: 28  \\\n",
      "0           ...                           Yoda   \n",
      "1           ...                 Very favorably   \n",
      "2           ...                            NaN   \n",
      "3           ...               Unfamiliar (N/A)   \n",
      "4           ...                 Very favorably   \n",
      "5           ...             Somewhat favorably   \n",
      "6           ...                 Very favorably   \n",
      "7           ...                 Very favorably   \n",
      "8           ...                 Very favorably   \n",
      "9           ...             Somewhat favorably   \n",
      "\n",
      "        Which character shot first?  \\\n",
      "0                          Response   \n",
      "1  I don't understand this question   \n",
      "2                               NaN   \n",
      "3  I don't understand this question   \n",
      "4  I don't understand this question   \n",
      "5                            Greedo   \n",
      "6                               Han   \n",
      "7                               Han   \n",
      "8                               Han   \n",
      "9                               Han   \n",
      "\n",
      "  Are you familiar with the Expanded Universe?  \\\n",
      "0                                     Response   \n",
      "1                                          Yes   \n",
      "2                                          NaN   \n",
      "3                                           No   \n",
      "4                                           No   \n",
      "5                                          Yes   \n",
      "6                                          Yes   \n",
      "7                                          Yes   \n",
      "8                                           No   \n",
      "9                                           No   \n",
      "\n",
      "  Do you consider yourself to be a fan of the Expanded Universe?ÂÃ¦  \\\n",
      "0                                           Response                   \n",
      "1                                                 No                   \n",
      "2                                                NaN                   \n",
      "3                                                NaN                   \n",
      "4                                                NaN                   \n",
      "5                                                 No                   \n",
      "6                                                 No                   \n",
      "7                                                 No                   \n",
      "8                                                NaN                   \n",
      "9                                                NaN                   \n",
      "\n",
      "  Do you consider yourself to be a fan of the Star Trek franchise?    Gender  \\\n",
      "0                                           Response                Response   \n",
      "1                                                 No                    Male   \n",
      "2                                                Yes                    Male   \n",
      "3                                                 No                    Male   \n",
      "4                                                Yes                    Male   \n",
      "5                                                 No                    Male   \n",
      "6                                                Yes                    Male   \n",
      "7                                                 No                    Male   \n",
      "8                                                Yes                    Male   \n",
      "9                                                 No                    Male   \n",
      "\n",
      "        Age     Household Income                         Education  \\\n",
      "0  Response             Response                          Response   \n",
      "1     18-29                  NaN                High school degree   \n",
      "2     18-29         $0 - $24,999                   Bachelor degree   \n",
      "3     18-29         $0 - $24,999                High school degree   \n",
      "4     18-29  $100,000 - $149,999  Some college or Associate degree   \n",
      "5     18-29  $100,000 - $149,999  Some college or Associate degree   \n",
      "6     18-29    $25,000 - $49,999                   Bachelor degree   \n",
      "7     18-29                  NaN                High school degree   \n",
      "8     18-29                  NaN                High school degree   \n",
      "9     18-29         $0 - $24,999  Some college or Associate degree   \n",
      "\n",
      "  Location (Census Region)  \n",
      "0                 Response  \n",
      "1           South Atlantic  \n",
      "2       West South Central  \n",
      "3       West North Central  \n",
      "4       West North Central  \n",
      "5       West North Central  \n",
      "6          Middle Atlantic  \n",
      "7       East North Central  \n",
      "8           South Atlantic  \n",
      "9           South Atlantic  \n",
      "\n",
      "[10 rows x 38 columns]\n",
      "(1186, 38)\n"
     ]
    }
   ],
   "source": [
    "import pandas as pd\n",
    "star_wars = pd.read_csv(\"star_wars.csv\", encoding=\"ISO-8859-1\")\n",
    "print(star_wars.head(10))\n",
    "star_wars = star_wars[pd.notnull(star_wars['RespondentID'])]\n",
    "print(star_wars.shape)\n"
   ]
  },
  {
   "cell_type": "code",
   "execution_count": 3,
   "metadata": {
    "collapsed": false
   },
   "outputs": [],
   "source": [
    "yes_no = {'Yes':True, 'No':False}\n",
    "for col in ['Have you seen any of the 6 films in the Star Wars franchise?','Do you consider yourself to be a fan of the Star Wars film franchise?']:\n",
    "    star_wars[col] = star_wars[col].map(yes_no)\n"
   ]
  },
  {
   "cell_type": "code",
   "execution_count": 4,
   "metadata": {
    "collapsed": false
   },
   "outputs": [
    {
     "name": "stdout",
     "output_type": "stream",
     "text": [
      "   RespondentID Have you seen any of the 6 films in the Star Wars franchise?  \\\n",
      "1  3.292880e+09                                               True             \n",
      "2  3.292880e+09                                              False             \n",
      "3  3.292765e+09                                               True             \n",
      "4  3.292763e+09                                               True             \n",
      "5  3.292731e+09                                               True             \n",
      "\n",
      "  Do you consider yourself to be a fan of the Star Wars film franchise?  \\\n",
      "1                                               True                      \n",
      "2                                                NaN                      \n",
      "3                                              False                      \n",
      "4                                               True                      \n",
      "5                                               True                      \n",
      "\n",
      "  seen_1 seen_2 seen_3 seen_4 seen_5 seen_6  \\\n",
      "1   True   True   True   True   True   True   \n",
      "2    NaN    NaN    NaN    NaN    NaN    NaN   \n",
      "3   True   True   True    NaN    NaN    NaN   \n",
      "4   True   True   True   True   True   True   \n",
      "5   True   True   True   True   True   True   \n",
      "\n",
      "  Please rank the Star Wars films in order of preference with 1 being your favorite film in the franchise and 6 being your least favorite film.  \\\n",
      "1                                                  3                                                                                              \n",
      "2                                                NaN                                                                                              \n",
      "3                                                  1                                                                                              \n",
      "4                                                  5                                                                                              \n",
      "5                                                  5                                                                                              \n",
      "\n",
      "            ...                    Unnamed: 28  \\\n",
      "1           ...                 Very favorably   \n",
      "2           ...                            NaN   \n",
      "3           ...               Unfamiliar (N/A)   \n",
      "4           ...                 Very favorably   \n",
      "5           ...             Somewhat favorably   \n",
      "\n",
      "        Which character shot first?  \\\n",
      "1  I don't understand this question   \n",
      "2                               NaN   \n",
      "3  I don't understand this question   \n",
      "4  I don't understand this question   \n",
      "5                            Greedo   \n",
      "\n",
      "  Are you familiar with the Expanded Universe?  \\\n",
      "1                                          Yes   \n",
      "2                                          NaN   \n",
      "3                                           No   \n",
      "4                                           No   \n",
      "5                                          Yes   \n",
      "\n",
      "  Do you consider yourself to be a fan of the Expanded Universe?ÂÃ¦  \\\n",
      "1                                                 No                   \n",
      "2                                                NaN                   \n",
      "3                                                NaN                   \n",
      "4                                                NaN                   \n",
      "5                                                 No                   \n",
      "\n",
      "  Do you consider yourself to be a fan of the Star Trek franchise? Gender  \\\n",
      "1                                                 No                 Male   \n",
      "2                                                Yes                 Male   \n",
      "3                                                 No                 Male   \n",
      "4                                                Yes                 Male   \n",
      "5                                                 No                 Male   \n",
      "\n",
      "     Age     Household Income                         Education  \\\n",
      "1  18-29                  NaN                High school degree   \n",
      "2  18-29         $0 - $24,999                   Bachelor degree   \n",
      "3  18-29         $0 - $24,999                High school degree   \n",
      "4  18-29  $100,000 - $149,999  Some college or Associate degree   \n",
      "5  18-29  $100,000 - $149,999  Some college or Associate degree   \n",
      "\n",
      "  Location (Census Region)  \n",
      "1           South Atlantic  \n",
      "2       West South Central  \n",
      "3       West North Central  \n",
      "4       West North Central  \n",
      "5       West North Central  \n",
      "\n",
      "[5 rows x 38 columns]\n"
     ]
    }
   ],
   "source": [
    "\n",
    "mov_nan = {\"Star Wars: Episode I  The Phantom Menace\": True, 'NaN': False, 'Star Wars: Episode II  Attack of the Clones':True, \"Star Wars: Episode III  Revenge of the Sith\": True, \"Star Wars: Episode IV  A New Hope\":True, \"Star Wars: Episode V The Empire Strikes Back\": True, \"Star Wars: Episode VI Return of the Jedi\":True}\n",
    "for col in star_wars.columns[3:9]:\n",
    "    star_wars[col] = star_wars[col].map(mov_nan)\n",
    "star_wars = star_wars.rename(columns={'Which of the following Star Wars films have you seen? Please select all that apply.':'seen_1', \"Unnamed: 4\":'seen_2', 'Unnamed: 5': 'seen_3', 'Unnamed: 6':'seen_4', 'Unnamed: 7':'seen_5', 'Unnamed: 8':'seen_6'})\n",
    "print(star_wars.head())\n"
   ]
  },
  {
   "cell_type": "code",
   "execution_count": 5,
   "metadata": {
    "collapsed": false
   },
   "outputs": [
    {
     "name": "stdout",
     "output_type": "stream",
     "text": [
      "      ranking_1  ranking_2  ranking_3  ranking_4  ranking_5  ranking_6\n",
      "1           3.0        2.0        1.0        4.0        5.0        6.0\n",
      "2           NaN        NaN        NaN        NaN        NaN        NaN\n",
      "3           1.0        2.0        3.0        4.0        5.0        6.0\n",
      "4           5.0        6.0        1.0        2.0        4.0        3.0\n",
      "5           5.0        4.0        6.0        2.0        1.0        3.0\n",
      "6           1.0        4.0        3.0        6.0        5.0        2.0\n",
      "7           6.0        5.0        4.0        3.0        1.0        2.0\n",
      "8           4.0        5.0        6.0        3.0        2.0        1.0\n",
      "9           5.0        4.0        6.0        2.0        1.0        3.0\n",
      "10          1.0        2.0        3.0        4.0        5.0        6.0\n",
      "11          NaN        NaN        NaN        NaN        NaN        NaN\n",
      "12          NaN        NaN        NaN        NaN        NaN        NaN\n",
      "13          3.0        4.0        5.0        6.0        1.0        2.0\n",
      "14          4.0        5.0        6.0        2.0        3.0        1.0\n",
      "15          4.0        2.0        5.0        3.0        1.0        6.0\n",
      "16          4.0        6.0        5.0        3.0        1.0        2.0\n",
      "17          4.0        1.0        2.0        3.0        5.0        6.0\n",
      "18          1.0        2.0        3.0        4.0        5.0        6.0\n",
      "19          6.0        5.0        2.0        3.0        1.0        4.0\n",
      "20          6.0        5.0        1.0        4.0        3.0        2.0\n",
      "21          6.0        5.0        4.0        1.0        2.0        3.0\n",
      "22          3.0        4.0        5.0        1.0        2.0        6.0\n",
      "23          6.0        5.0        4.0        3.0        1.0        2.0\n",
      "24          6.0        1.0        4.0        2.0        3.0        5.0\n",
      "25          1.0        2.0        6.0        3.0        4.0        5.0\n",
      "26          NaN        NaN        NaN        NaN        NaN        NaN\n",
      "27          4.0        6.0        5.0        2.0        3.0        1.0\n",
      "28          6.0        5.0        4.0        2.0        3.0        1.0\n",
      "29          6.0        5.0        4.0        2.0        1.0        3.0\n",
      "30          4.0        6.0        5.0        2.0        1.0        3.0\n",
      "...         ...        ...        ...        ...        ...        ...\n",
      "1157        3.0        4.0        5.0        6.0        2.0        1.0\n",
      "1158        NaN        NaN        NaN        NaN        NaN        NaN\n",
      "1159        2.0        3.0        4.0        5.0        1.0        6.0\n",
      "1160        NaN        NaN        NaN        NaN        NaN        NaN\n",
      "1161        3.0        4.0        2.0        5.0        6.0        1.0\n",
      "1162        3.0        4.0        5.0        6.0        1.0        2.0\n",
      "1163        4.0        5.0        6.0        1.0        2.0        3.0\n",
      "1164        5.0        6.0        2.0        1.0        4.0        3.0\n",
      "1165        5.0        4.0        3.0        6.0        1.0        2.0\n",
      "1166        5.0        6.0        4.0        3.0        1.0        2.0\n",
      "1167        6.0        5.0        1.0        4.0        3.0        2.0\n",
      "1168        3.0        4.0        5.0        6.0        1.0        2.0\n",
      "1169        NaN        NaN        NaN        NaN        NaN        NaN\n",
      "1170        4.0        5.0        6.0        3.0        1.0        2.0\n",
      "1171        NaN        NaN        NaN        NaN        NaN        NaN\n",
      "1172        6.0        2.0        1.0        5.0        3.0        4.0\n",
      "1173        2.0        3.0        4.0        1.0        6.0        5.0\n",
      "1174        5.0        3.0        6.0        4.0        2.0        1.0\n",
      "1175        1.0        2.0        3.0        4.0        5.0        6.0\n",
      "1176        1.0        3.0        4.0        6.0        2.0        5.0\n",
      "1177        2.0        1.0        3.0        4.0        5.0        6.0\n",
      "1178        1.0        2.0        3.0        4.0        5.0        6.0\n",
      "1179        NaN        NaN        NaN        NaN        NaN        NaN\n",
      "1180        3.0        4.0        5.0        6.0        1.0        2.0\n",
      "1181        3.0        4.0        5.0        2.0        1.0        6.0\n",
      "1182        5.0        4.0        6.0        3.0        2.0        1.0\n",
      "1183        4.0        5.0        6.0        2.0        3.0        1.0\n",
      "1184        NaN        NaN        NaN        NaN        NaN        NaN\n",
      "1185        4.0        3.0        6.0        5.0        2.0        1.0\n",
      "1186        6.0        1.0        2.0        3.0        4.0        5.0\n",
      "\n",
      "[1186 rows x 6 columns]\n"
     ]
    }
   ],
   "source": [
    "star_wars = star_wars.rename(columns={'Please rank the Star Wars films in order of preference with 1 being your favorite film in the franchise and 6 being your least favorite film.':'ranking_1', 'Unnamed: 10': 'ranking_2', 'Unnamed: 11':'ranking_3', 'Unnamed: 12':'ranking_4', 'Unnamed: 13':'ranking_5', 'Unnamed: 14':'ranking_6'})\n",
    "star_wars[star_wars.columns[9:15]] = star_wars[star_wars.columns[9:15]].astype(float)\n",
    "print(star_wars.iloc[:,9:15])"
   ]
  },
  {
   "cell_type": "code",
   "execution_count": 6,
   "metadata": {
    "collapsed": false
   },
   "outputs": [
    {
     "name": "stdout",
     "output_type": "stream",
     "text": [
      "ranking_1    3.732934\n",
      "ranking_2    4.087321\n",
      "ranking_3    4.341317\n",
      "ranking_4    3.272727\n",
      "ranking_5    2.513158\n",
      "ranking_6    3.047847\n",
      "dtype: float64\n"
     ]
    },
    {
     "data": {
      "image/png": "[encoded data removed]",
      "text/plain": [
       "<matplotlib.figure.Figure at 0x7fb6af79b860>"
      ]
     },
     "metadata": {},
     "output_type": "display_data"
    }
   ],
   "source": [
    "%matplotlib inline\n",
    "import matplotlib.pyplot as plt\n",
    "col = star_wars[star_wars.columns[9:15]]\n",
    "colmean = col.mean()\n",
    "colmean.plot.bar()\n",
    "print(colmean)\n",
    "\n"
   ]
  },
  {
   "cell_type": "markdown",
   "metadata": {},
   "source": [
    "It can be observed that the rankings topped up at the third film and then rankings started to get lower.  It could be that fans were getting enough until the third film.  Possibly the long time it took to release the last film, helped to get better rankings for this one."
   ]
  },
  {
   "cell_type": "code",
   "execution_count": 7,
   "metadata": {
    "collapsed": false
   },
   "outputs": [
    {
     "name": "stdout",
     "output_type": "stream",
     "text": [
      "seen_1    673.0\n",
      "seen_2    571.0\n",
      "seen_3    550.0\n",
      "seen_4    607.0\n",
      "seen_5    758.0\n",
      "seen_6    738.0\n",
      "dtype: float64\n",
      "True    571\n",
      "Name: seen_2, dtype: int64\n"
     ]
    },
    {
     "data": {
      "image/png": "[encoded data removed]",
      "text/plain": [
       "<matplotlib.figure.Figure at 0x7fb6ad7429e8>"
      ]
     },
     "metadata": {},
     "output_type": "display_data"
    }
   ],
   "source": [
    "cols = star_wars[star_wars.columns[3:9]]\n",
    "colsum = star_wars[star_wars.columns[3:9]].sum()\n",
    "colsum.plot.bar()\n",
    "print(colsum)\n",
    "print(star_wars[\"seen_2\"].value_counts())"
   ]
  },
  {
   "cell_type": "code",
   "execution_count": 8,
   "metadata": {
    "collapsed": false
   },
   "outputs": [
    {
     "data": {
      "image/png": "[encoded data removed]",
      "text/plain": [
       "<matplotlib.figure.Figure at 0x7fb6ad69c320>"
      ]
     },
     "metadata": {},
     "output_type": "display_data"
    },
    {
     "name": "stdout",
     "output_type": "stream",
     "text": [
      "0    3.732934\n",
      "1    4.087321\n",
      "3    4.341317\n",
      "4    3.272727\n",
      "5    2.513158\n",
      "6    3.047847\n",
      "dtype: float64\n"
     ]
    },
    {
     "data": {
      "text/plain": [
       "-0.87812649413847021"
      ]
     },
     "execution_count": 8,
     "metadata": {},
     "output_type": "execute_result"
    }
   ],
   "source": [
    "x = colsum\n",
    "y = colmean\n",
    "plt.scatter(x, y)\n",
    "plt.show()\n",
    "new_index=[1,2,3,4,5,6]\n",
    "colsumreind = colsum.rename({'seen_1':0,'seen_2':1,'seen_3':3, 'seen_4':4, 'seen_5':5, 'seen_6':6,})\n",
    "colmeanreind = colmean.rename({'ranking_1':0,'ranking_2':1,'ranking_3':3, 'ranking_4':4, 'ranking_5':5, 'ranking_6':6,})\n",
    "print(colmeanreind)\n",
    "colsumreind.corr(colmeanreind)\n"
   ]
  },
  {
   "cell_type": "markdown",
   "metadata": {},
   "source": [
    "Film 1, 5 and 6 were the most popular films.  These results are opposite to the rankings given by fans where the best rankings were given to film 3. The correlation between the two results (rankings and views) is strongly negative."
   ]
  },
  {
   "cell_type": "code",
   "execution_count": 84,
   "metadata": {
    "collapsed": false
   },
   "outputs": [
    {
     "name": "stdout",
     "output_type": "stream",
     "text": [
      "[361.0, 323.0, 317.0, 342.0, 392.0, 387.0]\n",
      "[298.0, 237.0, 222.0, 255.0, 353.0, 338.0]\n"
     ]
    },
    {
     "data": {
      "image/png": "[encoded data removed]",
      "text/plain": [
       "<matplotlib.figure.Figure at 0x7fb6acee3668>"
      ]
     },
     "metadata": {},
     "output_type": "display_data"
    }
   ],
   "source": [
    "import numpy as np\n",
    "malesp = star_wars[star_wars[\"Gender\"] == \"Male\"][star_wars.columns[3:9]].sum()\n",
    "\n",
    "femalesp = star_wars[star_wars[\"Gender\"] == \"Female\"][star_wars.columns[3:9]].sum()\n",
    "\n",
    "malesr = star_wars[star_wars[\"Gender\"] == \"Male\"][star_wars.columns[9:15]].mean()\n",
    "femalesr = star_wars[star_wars[\"Gender\"] == \"Female\"][star_wars.columns[9:15]].mean()\n",
    "\n",
    "malesl = malesp.tolist()\n",
    "femalesl = femalesp.tolist()\n",
    "print(malesl)\n",
    "print(femalesl)\n",
    "N = 6 #number of movies\n",
    "ind = np.arange(N)  \n",
    "width = 0.4   # the width of the bars\n",
    "\n",
    "fig = plt.figure(figsize=(10,4))\n",
    "ax = fig.add_subplot(111)\n",
    "\n",
    "rects1 = ax.bar(ind, malesl, width, color='b')\n",
    "rects2 = ax.bar(ind+width, femalesl, width, color='pink')\n",
    "ax.set_ylabel('Views')\n",
    "ax.set_xticks(ind+width)\n",
    "ax.set_ylim(200)\n",
    "ax.set_xticklabels( ('seen_1','seen_2','seen_3','seen_4','seen_5','seen_6'),rotation=45 )\n",
    "ax.legend((rects1[0], rects2[0]), ('Males', 'Females'), fontsize = 'small')\n",
    "\n",
    "plt.show()\n",
    "\n",
    "\n"
   ]
  },
  {
   "cell_type": "code",
   "execution_count": 85,
   "metadata": {
    "collapsed": false
   },
   "outputs": [
    {
     "name": "stdout",
     "output_type": "stream",
     "text": [
      "[4.037825059101655, 4.224586288416075, 4.274881516587678, 2.9976359338061465, 2.458628841607565, 3.0023640661938535]\n",
      "[3.4292929292929295, 3.954659949622166, 4.418136020151134, 3.544080604534005, 2.5692695214105794, 3.0780856423173804]\n"
     ]
    },
    {
     "data": {
      "image/png": "[encoded data removed]",
      "text/plain": [
       "<matplotlib.figure.Figure at 0x7fb6acf870f0>"
      ]
     },
     "metadata": {},
     "output_type": "display_data"
    },
    {
     "name": "stdout",
     "output_type": "stream",
     "text": [
      "(549, 38)\n",
      "(497, 38)\n"
     ]
    }
   ],
   "source": [
    "malesrl = malesr.tolist()\n",
    "femalesrl = femalesr.tolist()\n",
    "print(malesrl)\n",
    "print(femalesrl)\n",
    "\n",
    "N = 6 #number of movies\n",
    "ind = np.arange(N)  \n",
    "width = 0.4   # the width of the bars\n",
    "\n",
    "fig = plt.figure(figsize=(10,4))\n",
    "ax = fig.add_subplot(111)\n",
    "\n",
    "rects1b = ax.bar(ind, malesrl, width, color='b')\n",
    "rects2b = ax.bar(ind+width, femalesrl, width, color='pink')\n",
    "ax.set_ylabel('Rankings')\n",
    "ax.set_xticks(ind+width)\n",
    "#ax.set_ylim(200)\n",
    "ax.set_xticklabels( ('rankings_1','rankings_2','rankings_3','rankings_4','rankings_5','rankings_6'),rotation=45 )\n",
    "ax.legend((rects1b[0], rects2b[0]), ('Males', 'Females'), fontsize = 'small')\n",
    "\n",
    "plt.show()\n",
    "print(star_wars[\"Gender\"].value_counts())\n"
   ]
  },
  {
   "cell_type": "markdown",
   "metadata": {},
   "source": [
    "Both female and male rankings and views for the films have similar results. While for views the most popular film for both genders was film 5, film 3 had the hightes ranking.  Interesting to notice that there were not as many views per film for Females than for Males.  Females did rank films 3 to 6 higher than males. "
   ]
  },
  {
   "cell_type": "code",
   "execution_count": 96,
   "metadata": {
    "collapsed": false
   },
   "outputs": [
    {
     "name": "stdout",
     "output_type": "stream",
     "text": [
      "Han                                 325\n",
      "I don't understand this question    306\n",
      "Greedo                              197\n",
      "Name: Which character shot first?, dtype: int64\n",
      "Index(['Please state whether you view the following characters favorably, unfavorably, or are unfamiliar with him/her.',\n",
      "       'Unnamed: 16', 'Unnamed: 17', 'Unnamed: 18', 'Unnamed: 19',\n",
      "       'Unnamed: 20', 'Unnamed: 21', 'Unnamed: 22', 'Unnamed: 23',\n",
      "       'Unnamed: 24', 'Unnamed: 25', 'Unnamed: 26', 'Unnamed: 27',\n",
      "       'Unnamed: 28'],\n",
      "      dtype='object')\n"
     ]
    }
   ],
   "source": [
    "print(star_wars[\"Which character shot first?\"].value_counts())\n",
    "print(star_wars.columns[15:29])\n"
   ]
  }
 ],
 "metadata": {
  "kernelspec": {
   "display_name": "Python 3",
   "language": "python",
   "name": "python3"
  },
  "language_info": {
   "codemirror_mode": {
    "name": "ipython",
    "version": 3
   },
   "file_extension": ".py",
   "mimetype": "text/x-python",
   "name": "python",
   "nbconvert_exporter": "python",
   "pygments_lexer": "ipython3",
   "version": "3.4.3"
  }
 },
 "nbformat": 4,
 "nbformat_minor": 0
}
